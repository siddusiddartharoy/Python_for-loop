{
  "nbformat": 4,
  "nbformat_minor": 0,
  "metadata": {
    "colab": {
      "provenance": []
    },
    "kernelspec": {
      "name": "python3",
      "display_name": "Python 3"
    },
    "language_info": {
      "name": "python"
    }
  },
  "cells": [
    {
      "cell_type": "code",
      "source": [
        "# BASIC LEVEL"
      ],
      "metadata": {
        "id": "M8XlRRThuywu"
      },
      "execution_count": null,
      "outputs": []
    },
    {
      "cell_type": "code",
      "execution_count": 1,
      "metadata": {
        "id": "4lZrLuh0uUJX",
        "colab": {
          "base_uri": "https://localhost:8080/"
        },
        "outputId": "fd3728e5-f9f0-4e99-8c13-e550964b2611"
      },
      "outputs": [
        {
          "output_type": "stream",
          "name": "stdout",
          "text": [
            "1\n",
            "2\n",
            "3\n",
            "4\n",
            "5\n",
            "6\n",
            "7\n",
            "8\n",
            "9\n",
            "10\n"
          ]
        }
      ],
      "source": [
        "# 1. Print numbers from 1 to 10 using a for loop\n",
        "for i in range(1, 11):\n",
        "    print(i)\n"
      ]
    },
    {
      "cell_type": "code",
      "source": [
        "\n",
        "# 2. Calculate the sum of all numbers in a list using a for loop\n",
        "numbers_list = [1, 2, 3, 4, 5]\n",
        "sum_result = 0\n",
        "for num in numbers_list:\n",
        "    sum_result += num\n",
        "print(\"Sum:\", sum_result)\n",
        "\n"
      ],
      "metadata": {
        "colab": {
          "base_uri": "https://localhost:8080/"
        },
        "id": "OJ9QI9kMu26m",
        "outputId": "72d53fff-3f96-4431-8019-25f5efa27282"
      },
      "execution_count": 2,
      "outputs": [
        {
          "output_type": "stream",
          "name": "stdout",
          "text": [
            "Sum: 15\n"
          ]
        }
      ]
    },
    {
      "cell_type": "code",
      "source": [
        "# 3. Print characters of a string in reverse order using a for loop\n",
        "my_string = \"Hello\"\n",
        "for char in reversed(my_string):\n",
        "    print(char)\n",
        "\n"
      ],
      "metadata": {
        "colab": {
          "base_uri": "https://localhost:8080/"
        },
        "id": "WMFG_qBwvBhZ",
        "outputId": "27d9eb18-ddfb-495b-bba6-56ddfd95e06f"
      },
      "execution_count": 3,
      "outputs": [
        {
          "output_type": "stream",
          "name": "stdout",
          "text": [
            "o\n",
            "l\n",
            "l\n",
            "e\n",
            "H\n"
          ]
        }
      ]
    },
    {
      "cell_type": "code",
      "source": [
        "# 4. Find the factorial of a given number using a for loop\n",
        "number = 5\n",
        "factorial_result = 1\n",
        "for i in range(1, number + 1):\n",
        "    factorial_result *= i\n",
        "print(\"Factorial:\", factorial_result)\n",
        "\n"
      ],
      "metadata": {
        "colab": {
          "base_uri": "https://localhost:8080/"
        },
        "id": "1YrG7hJgvEEL",
        "outputId": "52a0f137-37bf-4654-f5a8-f75573f1e0c3"
      },
      "execution_count": 4,
      "outputs": [
        {
          "output_type": "stream",
          "name": "stdout",
          "text": [
            "Factorial: 120\n"
          ]
        }
      ]
    },
    {
      "cell_type": "code",
      "source": [
        "# 5. Print the multiplication table of a given number using a for loop\n",
        "multiplier = 3\n",
        "for i in range(1, 11):\n",
        "    print(f\"{multiplier} x {i} = {multiplier * i}\")\n",
        "\n"
      ],
      "metadata": {
        "colab": {
          "base_uri": "https://localhost:8080/"
        },
        "id": "OH8a_dWIvGke",
        "outputId": "e47fbfcd-5ea4-40b6-dd92-c7f2411d2b4d"
      },
      "execution_count": 5,
      "outputs": [
        {
          "output_type": "stream",
          "name": "stdout",
          "text": [
            "3 x 1 = 3\n",
            "3 x 2 = 6\n",
            "3 x 3 = 9\n",
            "3 x 4 = 12\n",
            "3 x 5 = 15\n",
            "3 x 6 = 18\n",
            "3 x 7 = 21\n",
            "3 x 8 = 24\n",
            "3 x 9 = 27\n",
            "3 x 10 = 30\n"
          ]
        }
      ]
    },
    {
      "cell_type": "code",
      "source": [
        "# 6. Count the number of even and odd numbers in a list using a for loop\n",
        "numbers_list = [1, 2, 3, 4, 5, 6, 7, 8, 9]\n",
        "even_count = 0\n",
        "odd_count = 0\n",
        "for num in numbers_list:\n",
        "    if num % 2 == 0:\n",
        "        even_count += 1\n",
        "    else:\n",
        "        odd_count += 1\n",
        "print(\"Even count:\", even_count)\n",
        "print(\"Odd count:\", odd_count)\n",
        "\n"
      ],
      "metadata": {
        "colab": {
          "base_uri": "https://localhost:8080/"
        },
        "id": "8N9T9rnxvIoc",
        "outputId": "a078e7e8-c77a-4473-af64-6c79289e428b"
      },
      "execution_count": 6,
      "outputs": [
        {
          "output_type": "stream",
          "name": "stdout",
          "text": [
            "Even count: 4\n",
            "Odd count: 5\n"
          ]
        }
      ]
    },
    {
      "cell_type": "code",
      "source": [
        "# 7. Print squares of numbers from 1 to 5 using a for loop\n",
        "for i in range(1, 6):\n",
        "    print(f\"{i} squared is {i**2}\")\n",
        "\n"
      ],
      "metadata": {
        "colab": {
          "base_uri": "https://localhost:8080/"
        },
        "id": "CtXI6nYmvKra",
        "outputId": "7b7a3748-e471-4e01-fd08-35ff25a50c8b"
      },
      "execution_count": 7,
      "outputs": [
        {
          "output_type": "stream",
          "name": "stdout",
          "text": [
            "1 squared is 1\n",
            "2 squared is 4\n",
            "3 squared is 9\n",
            "4 squared is 16\n",
            "5 squared is 25\n"
          ]
        }
      ]
    },
    {
      "cell_type": "code",
      "source": [
        "# 8. Find the length of a string without using len() function\n",
        "my_string = \"Hello, World!\"\n",
        "length = 0\n",
        "for char in my_string:\n",
        "    length += 1\n",
        "print(\"Length:\", length)\n",
        "\n"
      ],
      "metadata": {
        "colab": {
          "base_uri": "https://localhost:8080/"
        },
        "id": "xVysAbRbvNrv",
        "outputId": "f12827c6-1fcc-47fe-e608-82df06ddb6b5"
      },
      "execution_count": 8,
      "outputs": [
        {
          "output_type": "stream",
          "name": "stdout",
          "text": [
            "Length: 13\n"
          ]
        }
      ]
    },
    {
      "cell_type": "code",
      "source": [
        "# 9. Calculate the average of a list of numbers using a for loop\n",
        "numbers_list = [1, 2, 3, 4, 5]\n",
        "total_sum = 0\n",
        "for num in numbers_list:\n",
        "    total_sum += num\n",
        "average = total_sum / len(numbers_list)\n",
        "print(\"Average:\", average)\n",
        "\n"
      ],
      "metadata": {
        "colab": {
          "base_uri": "https://localhost:8080/"
        },
        "id": "jAPTXxwovPgE",
        "outputId": "6b717c27-897f-4ebb-dfbe-5bfbbdfce4ce"
      },
      "execution_count": 9,
      "outputs": [
        {
          "output_type": "stream",
          "name": "stdout",
          "text": [
            "Average: 3.0\n"
          ]
        }
      ]
    },
    {
      "cell_type": "code",
      "source": [
        "# 10. Print the first n Fibonacci numbers using a for loop\n",
        "n = 5\n",
        "fibonacci_sequence = [0, 1]\n",
        "for _ in range(2, n):\n",
        "    next_number = fibonacci_sequence[-1] + fibonacci_sequence[-2]\n",
        "    fibonacci_sequence.append(next_number)\n",
        "print(\"Fibonacci sequence:\", fibonacci_sequence)\n"
      ],
      "metadata": {
        "colab": {
          "base_uri": "https://localhost:8080/"
        },
        "id": "Z9hC8BrRvQ0l",
        "outputId": "05c7dbab-082e-4352-e39c-b2a06a85a5be"
      },
      "execution_count": 10,
      "outputs": [
        {
          "output_type": "stream",
          "name": "stdout",
          "text": [
            "Fibonacci sequence: [0, 1, 1, 2, 3]\n"
          ]
        }
      ]
    },
    {
      "cell_type": "code",
      "source": [
        "#  INTERMEDIATE LEVEL"
      ],
      "metadata": {
        "id": "QTgh2lRovRdQ"
      },
      "execution_count": 11,
      "outputs": []
    },
    {
      "cell_type": "code",
      "source": [
        "#  Write a program to check if a given list contains any duplicates using a for loop.\n",
        "def has_duplicates(lst):\n",
        "    seen = set()\n",
        "    for item in lst:\n",
        "        if item in seen:\n",
        "            return True\n",
        "        seen.add(item)\n",
        "    return False\n",
        "\n",
        "my_list = [1, 2, 3, 4, 5, 1]\n",
        "print(\"Has duplicates:\", has_duplicates(my_list))\n"
      ],
      "metadata": {
        "colab": {
          "base_uri": "https://localhost:8080/"
        },
        "id": "Tftosmp1vo1O",
        "outputId": "60ade7b2-9919-4c5f-ee6f-2c31f1060365"
      },
      "execution_count": 12,
      "outputs": [
        {
          "output_type": "stream",
          "name": "stdout",
          "text": [
            "Has duplicates: True\n"
          ]
        }
      ]
    },
    {
      "cell_type": "code",
      "source": [
        "# Question: Create a program that prints the prime numbers in a given range using a for loop.\n",
        "def is_prime(num):\n",
        "    if num < 2:\n",
        "        return False\n",
        "    for i in range(2, int(num**0.5) + 1):\n",
        "        if num % i == 0:\n",
        "            return False\n",
        "    return True\n",
        "\n",
        "start_range = 1\n",
        "end_range = 20\n",
        "print(\"Prime numbers:\", [num for num in range(start_range, end_range + 1) if is_prime(num)])\n"
      ],
      "metadata": {
        "colab": {
          "base_uri": "https://localhost:8080/"
        },
        "id": "UFlIsr2tvvFw",
        "outputId": "de1a7511-f91c-4696-be09-a85881b2fd6a"
      },
      "execution_count": 13,
      "outputs": [
        {
          "output_type": "stream",
          "name": "stdout",
          "text": [
            "Prime numbers: [2, 3, 5, 7, 11, 13, 17, 19]\n"
          ]
        }
      ]
    },
    {
      "cell_type": "code",
      "source": [
        "# Develop a program that counts the number of vowels in a string using a for loop.\n",
        "def count_vowels(string):\n",
        "    vowels = \"aeiouAEIOU\"\n",
        "    vowel_count = 0\n",
        "    for char in string:\n",
        "        if char in vowels:\n",
        "            vowel_count += 1\n",
        "    return vowel_count\n",
        "\n",
        "my_string = \"Hello, World!\"\n",
        "print(\"Number of vowels:\", count_vowels(my_string))\n"
      ],
      "metadata": {
        "colab": {
          "base_uri": "https://localhost:8080/"
        },
        "id": "EyYfWdeZvwiL",
        "outputId": "a47d6158-4db6-45b6-8ed9-31f5d80cfda8"
      },
      "execution_count": 14,
      "outputs": [
        {
          "output_type": "stream",
          "name": "stdout",
          "text": [
            "Number of vowels: 3\n"
          ]
        }
      ]
    },
    {
      "cell_type": "code",
      "source": [
        "#  Write a program to find the maximum element in a 2D list using a nested for loop.\n",
        "matrix = [[1, 2, 3], [4, 5, 6], [7, 8, 9]]\n",
        "max_element = max(max(row) for row in matrix)\n",
        "print(\"Maximum element:\", max_element)\n"
      ],
      "metadata": {
        "colab": {
          "base_uri": "https://localhost:8080/"
        },
        "id": "8NnTDVaOvyl0",
        "outputId": "dec4f425-b6b8-4253-f244-f6255144c5ad"
      },
      "execution_count": 15,
      "outputs": [
        {
          "output_type": "stream",
          "name": "stdout",
          "text": [
            "Maximum element: 9\n"
          ]
        }
      ]
    },
    {
      "cell_type": "code",
      "source": [
        "# Question: Create a program that removes all occurrences of a specific element from a list using a for loop.\n",
        "def remove_element(lst, target):\n",
        "    lst = [item for item in lst if item != target]\n",
        "    return lst\n",
        "\n",
        "my_list = [1, 2, 3, 2, 4, 2, 5]\n",
        "element_to_remove = 2\n",
        "result_list = remove_element(my_list, element_to_remove)\n",
        "print(\"List after removal:\", result_list)\n"
      ],
      "metadata": {
        "colab": {
          "base_uri": "https://localhost:8080/"
        },
        "id": "opdlAT2Cv0Y1",
        "outputId": "26438c31-1843-4e96-bd73-1f9612a58327"
      },
      "execution_count": 16,
      "outputs": [
        {
          "output_type": "stream",
          "name": "stdout",
          "text": [
            "List after removal: [1, 3, 4, 5]\n"
          ]
        }
      ]
    },
    {
      "cell_type": "code",
      "source": [
        "#  Develop a program that generates a multiplication table for numbers from 1 to 5 using a nested for loop.\n",
        "for i in range(1, 6):\n",
        "    for j in range(1, 11):\n",
        "        print(f\"{i} x {j} = {i * j}\")\n"
      ],
      "metadata": {
        "colab": {
          "base_uri": "https://localhost:8080/"
        },
        "id": "HFM9P5zJv5Sa",
        "outputId": "c71527ac-c5ad-4a7c-b048-2d8f3f1b1367"
      },
      "execution_count": 17,
      "outputs": [
        {
          "output_type": "stream",
          "name": "stdout",
          "text": [
            "1 x 1 = 1\n",
            "1 x 2 = 2\n",
            "1 x 3 = 3\n",
            "1 x 4 = 4\n",
            "1 x 5 = 5\n",
            "1 x 6 = 6\n",
            "1 x 7 = 7\n",
            "1 x 8 = 8\n",
            "1 x 9 = 9\n",
            "1 x 10 = 10\n",
            "2 x 1 = 2\n",
            "2 x 2 = 4\n",
            "2 x 3 = 6\n",
            "2 x 4 = 8\n",
            "2 x 5 = 10\n",
            "2 x 6 = 12\n",
            "2 x 7 = 14\n",
            "2 x 8 = 16\n",
            "2 x 9 = 18\n",
            "2 x 10 = 20\n",
            "3 x 1 = 3\n",
            "3 x 2 = 6\n",
            "3 x 3 = 9\n",
            "3 x 4 = 12\n",
            "3 x 5 = 15\n",
            "3 x 6 = 18\n",
            "3 x 7 = 21\n",
            "3 x 8 = 24\n",
            "3 x 9 = 27\n",
            "3 x 10 = 30\n",
            "4 x 1 = 4\n",
            "4 x 2 = 8\n",
            "4 x 3 = 12\n",
            "4 x 4 = 16\n",
            "4 x 5 = 20\n",
            "4 x 6 = 24\n",
            "4 x 7 = 28\n",
            "4 x 8 = 32\n",
            "4 x 9 = 36\n",
            "4 x 10 = 40\n",
            "5 x 1 = 5\n",
            "5 x 2 = 10\n",
            "5 x 3 = 15\n",
            "5 x 4 = 20\n",
            "5 x 5 = 25\n",
            "5 x 6 = 30\n",
            "5 x 7 = 35\n",
            "5 x 8 = 40\n",
            "5 x 9 = 45\n",
            "5 x 10 = 50\n"
          ]
        }
      ]
    },
    {
      "cell_type": "code",
      "source": [
        "#  Write a program that converts a list of Fahrenheit temperatures to Celsius using a for loop.\n",
        "def fahrenheit_to_celsius(fahrenheit):\n",
        "    return (fahrenheit - 32) * 5/9\n",
        "\n",
        "fahrenheit_temperatures = [32, 68, 104, 140]\n",
        "celsius_temperatures = [fahrenheit_to_celsius(temp) for temp in fahrenheit_temperatures]\n",
        "print(\"Celsius Temperatures:\", celsius_temperatures)\n"
      ],
      "metadata": {
        "colab": {
          "base_uri": "https://localhost:8080/"
        },
        "id": "zjevQRiLv8ff",
        "outputId": "766e201a-9287-4b0f-92ff-cb0dbdcdbc5f"
      },
      "execution_count": 18,
      "outputs": [
        {
          "output_type": "stream",
          "name": "stdout",
          "text": [
            "Celsius Temperatures: [0.0, 20.0, 40.0, 60.0]\n"
          ]
        }
      ]
    },
    {
      "cell_type": "code",
      "source": [
        "# Question: Create a program that prints the common elements from two lists using a for loop.\n",
        "list1 = [1, 2, 3, 4, 5]\n",
        "list2 = [3, 4, 5, 6, 7]\n",
        "common_elements = [item for item in list1 if item in list2]\n",
        "print(\"Common elements:\", common_elements)\n"
      ],
      "metadata": {
        "colab": {
          "base_uri": "https://localhost:8080/"
        },
        "id": "BAiV1gkKv-yF",
        "outputId": "ceb52bd4-b650-412b-cd07-98fe0eb5a6d1"
      },
      "execution_count": 19,
      "outputs": [
        {
          "output_type": "stream",
          "name": "stdout",
          "text": [
            "Common elements: [3, 4, 5]\n"
          ]
        }
      ]
    },
    {
      "cell_type": "code",
      "source": [
        "# Question: Develop a program that prints the pattern of right-angled triangles using a for loop.\n",
        "for i in range(1, 6):\n",
        "    print('*' * i)\n"
      ],
      "metadata": {
        "colab": {
          "base_uri": "https://localhost:8080/"
        },
        "id": "iGXTNoGLwBaO",
        "outputId": "86c05a32-cacb-4526-dc0b-2a8ea865f968"
      },
      "execution_count": 20,
      "outputs": [
        {
          "output_type": "stream",
          "name": "stdout",
          "text": [
            "*\n",
            "**\n",
            "***\n",
            "****\n",
            "*****\n"
          ]
        }
      ]
    },
    {
      "cell_type": "code",
      "source": [
        "# Question: Write a program to find the greatest common divisor (GCD) of two numbers using a for loop.\n",
        "def find_gcd(x, y):\n",
        "    while y:\n",
        "        x, y = y, x % y\n",
        "    return x\n",
        "\n",
        "num1 = 48\n",
        "num2 = 36\n",
        "gcd_result = find_gcd(num1, num2)\n",
        "print(\"GCD:\", gcd_result)\n"
      ],
      "metadata": {
        "colab": {
          "base_uri": "https://localhost:8080/"
        },
        "id": "BwIZ2NVtwDfi",
        "outputId": "faaae041-af9b-44d4-8f05-3ca5ae739077"
      },
      "execution_count": 21,
      "outputs": [
        {
          "output_type": "stream",
          "name": "stdout",
          "text": [
            "GCD: 12\n"
          ]
        }
      ]
    },
    {
      "cell_type": "code",
      "source": [
        "# ADVANCED LEVEL"
      ],
      "metadata": {
        "id": "R5pWHV6dwFCn"
      },
      "execution_count": 22,
      "outputs": []
    },
    {
      "cell_type": "code",
      "source": [
        "#  Create a program that calculates the sum of digits of numbers in a list using list comprehension.\n",
        "numbers_list = [123, 45, 678, 9]\n",
        "sum_of_digits = [sum(int(digit) for digit in str(num)) for num in numbers_list]\n",
        "print(\"Sum of digits:\", sum_of_digits)\n"
      ],
      "metadata": {
        "colab": {
          "base_uri": "https://localhost:8080/"
        },
        "id": "8Qdn6qnKwP5K",
        "outputId": "b1419ca8-29df-4058-8ef6-12fa8863922e"
      },
      "execution_count": 23,
      "outputs": [
        {
          "output_type": "stream",
          "name": "stdout",
          "text": [
            "Sum of digits: [6, 9, 21, 9]\n"
          ]
        }
      ]
    },
    {
      "cell_type": "code",
      "source": [
        "#  Write a program to find the prime factors of a given number using a for loop and list comprehension.\n",
        "def prime_factors(n):\n",
        "    factors = [i for i in range(2, n+1) if n % i == 0 and all(i % j != 0 for j in range(2, i))]\n",
        "    return factors\n",
        "\n",
        "number = 36\n",
        "prime_factors_list = prime_factors(number)\n",
        "print(\"Prime factors:\", prime_factors_list)\n"
      ],
      "metadata": {
        "colab": {
          "base_uri": "https://localhost:8080/"
        },
        "id": "eIfkai9cwURS",
        "outputId": "70981bdc-2645-454f-a41b-f7cc39603c35"
      },
      "execution_count": 24,
      "outputs": [
        {
          "output_type": "stream",
          "name": "stdout",
          "text": [
            "Prime factors: [2, 3]\n"
          ]
        }
      ]
    },
    {
      "cell_type": "code",
      "source": [
        "#  Develop a program that extracts unique elements from a list and stores them in a new list using list comprehension.\n",
        "original_list = [1, 2, 2, 3, 4, 4, 5]\n",
        "unique_elements = list(set(original_list))\n",
        "print(\"Unique elements:\", unique_elements)\n"
      ],
      "metadata": {
        "colab": {
          "base_uri": "https://localhost:8080/"
        },
        "id": "OHU6ibytwV93",
        "outputId": "841f70df-d3ef-47b7-e0f5-e1cb3371d8c0"
      },
      "execution_count": 25,
      "outputs": [
        {
          "output_type": "stream",
          "name": "stdout",
          "text": [
            "Unique elements: [1, 2, 3, 4, 5]\n"
          ]
        }
      ]
    },
    {
      "cell_type": "code",
      "source": [
        "#  Create a program that generates a list of all palindromic numbers up to a specified limit using list comprehension.\n",
        "limit = 100\n",
        "palindromic_numbers = [num for num in range(limit) if str(num) == str(num)[::-1]]\n",
        "print(\"Palindromic numbers:\", palindromic_numbers)\n"
      ],
      "metadata": {
        "colab": {
          "base_uri": "https://localhost:8080/"
        },
        "id": "DWLr8Vl4wXmw",
        "outputId": "cd40023c-dd30-4cf9-cd00-38382ab8e56b"
      },
      "execution_count": 26,
      "outputs": [
        {
          "output_type": "stream",
          "name": "stdout",
          "text": [
            "Palindromic numbers: [0, 1, 2, 3, 4, 5, 6, 7, 8, 9, 11, 22, 33, 44, 55, 66, 77, 88, 99]\n"
          ]
        }
      ]
    },
    {
      "cell_type": "code",
      "source": [
        "# : Write a program to flatten a nested list using list comprehension.\n",
        "nested_list = [[1, 2, 3], [4, 5, 6], [7, 8, 9]]\n",
        "flattened_list = [item for sublist in nested_list for item in sublist]\n",
        "print(\"Flattened list:\", flattened_list)\n"
      ],
      "metadata": {
        "colab": {
          "base_uri": "https://localhost:8080/"
        },
        "id": "MDXzE8P2wZ4r",
        "outputId": "4157e07a-0acd-470f-de7e-e1f55477e956"
      },
      "execution_count": 27,
      "outputs": [
        {
          "output_type": "stream",
          "name": "stdout",
          "text": [
            "Flattened list: [1, 2, 3, 4, 5, 6, 7, 8, 9]\n"
          ]
        }
      ]
    },
    {
      "cell_type": "code",
      "source": [
        "# : Develop a program that computes the sum of even and odd numbers in a list separately using list comprehension.\n",
        "numbers_list = [1, 2, 3, 4, 5, 6, 7, 8, 9]\n",
        "sum_even_odd = {\"Even\": sum(num for num in numbers_list if num % 2 == 0),\n",
        "                \"Odd\": sum(num for num in numbers_list if num % 2 != 0)}\n",
        "print(\"Sum of even and odd numbers:\", sum_even_odd)\n"
      ],
      "metadata": {
        "colab": {
          "base_uri": "https://localhost:8080/"
        },
        "id": "AxIeMR2SwcTb",
        "outputId": "cec2ad53-26aa-4d4d-fc14-3fdeb7bfaba4"
      },
      "execution_count": 28,
      "outputs": [
        {
          "output_type": "stream",
          "name": "stdout",
          "text": [
            "Sum of even and odd numbers: {'Even': 20, 'Odd': 25}\n"
          ]
        }
      ]
    },
    {
      "cell_type": "code",
      "source": [
        "# : Create a program that generates a list of squares of odd numbers between 1 and 10 using list comprehension.\n",
        "squares_of_odd = [num**2 for num in range(1, 11) if num % 2 != 0]\n",
        "print(\"Squares of odd numbers:\", squares_of_odd)\n"
      ],
      "metadata": {
        "colab": {
          "base_uri": "https://localhost:8080/"
        },
        "id": "O_swCww9wfqC",
        "outputId": "a0782a17-d49f-4bda-f7e5-110527e62ce3"
      },
      "execution_count": 29,
      "outputs": [
        {
          "output_type": "stream",
          "name": "stdout",
          "text": [
            "Squares of odd numbers: [1, 9, 25, 49, 81]\n"
          ]
        }
      ]
    },
    {
      "cell_type": "code",
      "source": [
        "# : Write a program that combines two lists into a dictionary using list comprehension.\n",
        "keys = [\"a\", \"b\", \"c\"]\n",
        "values = [1, 2, 3]\n",
        "combined_dict = {k: v for k, v in zip(keys, values)}\n",
        "print(\"Combined dictionary:\", combined_dict)\n"
      ],
      "metadata": {
        "colab": {
          "base_uri": "https://localhost:8080/"
        },
        "id": "um9rGgvHwjJJ",
        "outputId": "6bc4de33-af4d-4a69-ef19-d1f9503dc446"
      },
      "execution_count": 30,
      "outputs": [
        {
          "output_type": "stream",
          "name": "stdout",
          "text": [
            "Combined dictionary: {'a': 1, 'b': 2, 'c': 3}\n"
          ]
        }
      ]
    },
    {
      "cell_type": "code",
      "source": [
        "#: Develop a program that extracts the vowels from a string and stores them in a list using list comprehension.\n",
        "my_string = \"Hello, World!\"\n",
        "vowels_list = [char for char in my_string if char.lower() in \"aeiou\"]\n",
        "print(\"Vowels:\", vowels_list)\n"
      ],
      "metadata": {
        "colab": {
          "base_uri": "https://localhost:8080/"
        },
        "id": "A4vHmkB4wkvo",
        "outputId": "90f97668-c051-4b92-e673-4a22add6a006"
      },
      "execution_count": 31,
      "outputs": [
        {
          "output_type": "stream",
          "name": "stdout",
          "text": [
            "Vowels: ['e', 'o', 'o']\n"
          ]
        }
      ]
    },
    {
      "cell_type": "code",
      "source": [
        "#  Create a program that removes all non-numeric characters from a list of strings using list comprehension.\n",
        "strings_list = [\"abc\", \"123\", \"def456\", \"789\"]\n",
        "numeric_characters = [int(char) for string in strings_list for char in string if char.isdigit()]\n",
        "print(\"Numeric characters:\", numeric_characters)\n"
      ],
      "metadata": {
        "colab": {
          "base_uri": "https://localhost:8080/"
        },
        "id": "unWsu_zAwq1g",
        "outputId": "92ef475f-53d5-46e8-99ee-b256a9014392"
      },
      "execution_count": 32,
      "outputs": [
        {
          "output_type": "stream",
          "name": "stdout",
          "text": [
            "Numeric characters: [1, 2, 3, 4, 5, 6, 7, 8, 9]\n"
          ]
        }
      ]
    },
    {
      "cell_type": "code",
      "source": [
        "# CHALLENGE LEVEL"
      ],
      "metadata": {
        "id": "vHOarI6awsiO"
      },
      "execution_count": 33,
      "outputs": []
    },
    {
      "cell_type": "code",
      "source": [
        "# Write a program to generate a list of prime numbers using the Sieve of Eratosthenes algorithm and list comprehension.\n",
        "def sieve_of_eratosthenes(limit):\n",
        "    sieve = [True] * (limit + 1)\n",
        "    sieve[0], sieve[1] = False, False\n",
        "    for i in range(2, int(limit**0.5) + 1):\n",
        "        if sieve[i]:\n",
        "            sieve[i*i:limit+1:i] = [False] * len(range(i*i, limit+1, i))\n",
        "    return [num for num, is_prime in enumerate(sieve) if is_prime]\n",
        "\n",
        "limit = 50\n",
        "prime_numbers = sieve_of_eratosthenes(limit)\n",
        "print(\"Prime numbers:\", prime_numbers)\n"
      ],
      "metadata": {
        "colab": {
          "base_uri": "https://localhost:8080/"
        },
        "id": "XYCYPmjXxMfC",
        "outputId": "a28bb802-c04c-48c8-a9d4-623e2907a6e9"
      },
      "execution_count": 34,
      "outputs": [
        {
          "output_type": "stream",
          "name": "stdout",
          "text": [
            "Prime numbers: [2, 3, 5, 7, 11, 13, 17, 19, 23, 29, 31, 37, 41, 43, 47]\n"
          ]
        }
      ]
    },
    {
      "cell_type": "code",
      "source": [
        "# Create a program that generates a list of all Pythagorean triplets up to a specified limit using list comprehension.\n",
        "limit = 20\n",
        "pythagorean_triplets = [(a, b, c) for a in range(1, limit+1) for b in range(a, limit+1) for c in range(b, limit+1) if a**2 + b**2 == c**2]\n",
        "print(\"Pythagorean triplets:\", pythagorean_triplets)\n"
      ],
      "metadata": {
        "colab": {
          "base_uri": "https://localhost:8080/"
        },
        "id": "3YcD7SasxXY9",
        "outputId": "991fb77b-0afb-4b02-9f02-601db3c4ee9d"
      },
      "execution_count": 35,
      "outputs": [
        {
          "output_type": "stream",
          "name": "stdout",
          "text": [
            "Pythagorean triplets: [(3, 4, 5), (5, 12, 13), (6, 8, 10), (8, 15, 17), (9, 12, 15), (12, 16, 20)]\n"
          ]
        }
      ]
    },
    {
      "cell_type": "code",
      "source": [
        "# Develop a program that generates a list of all possible combinations of two lists using list comprehension.\n",
        "list1 = [1, 2, 3]\n",
        "list2 = ['a', 'b', 'c']\n",
        "combinations = [(x, y) for x in list1 for y in list2]\n",
        "print(\"Combinations:\", combinations)\n"
      ],
      "metadata": {
        "colab": {
          "base_uri": "https://localhost:8080/"
        },
        "id": "4E93v9ZFxZD1",
        "outputId": "cde175e0-4afd-4276-cfee-c4acc3a490bb"
      },
      "execution_count": 36,
      "outputs": [
        {
          "output_type": "stream",
          "name": "stdout",
          "text": [
            "Combinations: [(1, 'a'), (1, 'b'), (1, 'c'), (2, 'a'), (2, 'b'), (2, 'c'), (3, 'a'), (3, 'b'), (3, 'c')]\n"
          ]
        }
      ]
    },
    {
      "cell_type": "code",
      "source": [
        "# Write a program that calculates the mean, median, and mode of a list of numbers using list comprehension.\n",
        "import statistics\n",
        "\n",
        "numbers_list = [1, 2, 3, 4, 5, 6, 3, 4, 5, 5]\n",
        "mean = sum(numbers_list) / len(numbers_list)\n",
        "median = sorted(numbers_list)[len(numbers_list) // 2]\n",
        "mode = max(set(numbers_list), key=numbers_list.count)\n",
        "\n",
        "print(\"Mean:\", mean)\n",
        "print(\"Median:\", median)\n",
        "print(\"Mode:\", mode)\n"
      ],
      "metadata": {
        "colab": {
          "base_uri": "https://localhost:8080/"
        },
        "id": "yMsYokiWxayK",
        "outputId": "e0760c53-28af-4be5-b8ab-4835c6e97f5a"
      },
      "execution_count": 37,
      "outputs": [
        {
          "output_type": "stream",
          "name": "stdout",
          "text": [
            "Mean: 3.8\n",
            "Median: 4\n",
            "Mode: 5\n"
          ]
        }
      ]
    },
    {
      "cell_type": "code",
      "source": [
        "# Create a program that generates Pascal's triangle up to a specified number of rows using list comprehension.\n",
        "def generate_pascals_triangle(rows):\n",
        "    triangle = [[1]]\n",
        "    for row in range(1, rows):\n",
        "        previous_row = triangle[-1]\n",
        "        new_row = [1] + [previous_row[i-1] + previous_row[i] for i in range(1, row)] + [1]\n",
        "        triangle.append(new_row)\n",
        "    return triangle\n",
        "\n",
        "num_rows = 5\n",
        "pascals_triangle = generate_pascals_triangle(num_rows)\n",
        "print(\"Pascal's Triangle:\")\n",
        "for row in pascals_triangle:\n",
        "    print(row)\n"
      ],
      "metadata": {
        "colab": {
          "base_uri": "https://localhost:8080/"
        },
        "id": "kGJxwpHExcZ3",
        "outputId": "2d3824bc-042c-4a97-c506-35c71ce950b5"
      },
      "execution_count": 44,
      "outputs": [
        {
          "output_type": "stream",
          "name": "stdout",
          "text": [
            "Pascal's Triangle:\n",
            "[1]\n",
            "[1, 1]\n",
            "[1, 2, 1]\n",
            "[1, 3, 3, 1]\n",
            "[1, 4, 6, 4, 1]\n"
          ]
        }
      ]
    },
    {
      "cell_type": "code",
      "source": [
        "# Develop a program that calculates the sum of the digits of a factorial of numbers from 1 to 5 using list comprehension.\n",
        "import math\n",
        "\n",
        "factorials_sum_digits = [sum(int(digit) for digit in str(math.factorial(num))) for num in range(1, 6)]\n",
        "print(\"Sum of digits of factorials:\", factorials_sum_digits)\n"
      ],
      "metadata": {
        "colab": {
          "base_uri": "https://localhost:8080/"
        },
        "id": "-HlCZ11PxfvI",
        "outputId": "cdad1a05-ed43-4edd-f3d1-edf308307709"
      },
      "execution_count": 39,
      "outputs": [
        {
          "output_type": "stream",
          "name": "stdout",
          "text": [
            "Sum of digits of factorials: [1, 2, 6, 6, 3]\n"
          ]
        }
      ]
    },
    {
      "cell_type": "code",
      "source": [
        "# Write a program that finds the longest word in a sentence using list comprehension.\n",
        "sentence = \"This is a sample sentence to find the longest word.\"\n",
        "longest_word = max(word.strip(\".,\") for word in sentence.split())\n",
        "print(\"Longest word:\", longest_word)\n"
      ],
      "metadata": {
        "colab": {
          "base_uri": "https://localhost:8080/"
        },
        "id": "4etD-ze_xsxp",
        "outputId": "3f215ec5-bda4-4bd1-8fab-56682e328eaf"
      },
      "execution_count": 40,
      "outputs": [
        {
          "output_type": "stream",
          "name": "stdout",
          "text": [
            "Longest word: word\n"
          ]
        }
      ]
    },
    {
      "cell_type": "code",
      "source": [
        "# Create a program that filters a list of strings to include only those with more than three vowels using list comprehension.\n",
        "strings_list = [\"hello\", \"world\", \"python\", \"programming\"]\n",
        "filtered_strings = [string for string in strings_list if sum(1 for char in string if char.lower() in \"aeiou\") > 3]\n",
        "print(\"Filtered strings:\", filtered_strings)\n"
      ],
      "metadata": {
        "colab": {
          "base_uri": "https://localhost:8080/"
        },
        "id": "bDrKKbKrxvgC",
        "outputId": "2c14eb4a-8a75-412b-c22e-e90026dd7391"
      },
      "execution_count": 41,
      "outputs": [
        {
          "output_type": "stream",
          "name": "stdout",
          "text": [
            "Filtered strings: []\n"
          ]
        }
      ]
    },
    {
      "cell_type": "code",
      "source": [
        "# Develop a program that calculates the sum of the digits of numbers from 1 to 1000 using list comprehension.\n",
        "sum_digits_1_to_1000 = [sum(int(digit) for digit in str(num)) for num in range(1, 1001)]\n",
        "print(\"Sum of digits for numbers 1 to 1000:\", sum_digits_1_to_1000)\n"
      ],
      "metadata": {
        "colab": {
          "base_uri": "https://localhost:8080/"
        },
        "id": "808KyDo0xxEc",
        "outputId": "696dd930-5142-4d9b-c9b8-ce67653ce2c5"
      },
      "execution_count": 42,
      "outputs": [
        {
          "output_type": "stream",
          "name": "stdout",
          "text": [
            "Sum of digits for numbers 1 to 1000: [1, 2, 3, 4, 5, 6, 7, 8, 9, 1, 2, 3, 4, 5, 6, 7, 8, 9, 10, 2, 3, 4, 5, 6, 7, 8, 9, 10, 11, 3, 4, 5, 6, 7, 8, 9, 10, 11, 12, 4, 5, 6, 7, 8, 9, 10, 11, 12, 13, 5, 6, 7, 8, 9, 10, 11, 12, 13, 14, 6, 7, 8, 9, 10, 11, 12, 13, 14, 15, 7, 8, 9, 10, 11, 12, 13, 14, 15, 16, 8, 9, 10, 11, 12, 13, 14, 15, 16, 17, 9, 10, 11, 12, 13, 14, 15, 16, 17, 18, 1, 2, 3, 4, 5, 6, 7, 8, 9, 10, 2, 3, 4, 5, 6, 7, 8, 9, 10, 11, 3, 4, 5, 6, 7, 8, 9, 10, 11, 12, 4, 5, 6, 7, 8, 9, 10, 11, 12, 13, 5, 6, 7, 8, 9, 10, 11, 12, 13, 14, 6, 7, 8, 9, 10, 11, 12, 13, 14, 15, 7, 8, 9, 10, 11, 12, 13, 14, 15, 16, 8, 9, 10, 11, 12, 13, 14, 15, 16, 17, 9, 10, 11, 12, 13, 14, 15, 16, 17, 18, 10, 11, 12, 13, 14, 15, 16, 17, 18, 19, 2, 3, 4, 5, 6, 7, 8, 9, 10, 11, 3, 4, 5, 6, 7, 8, 9, 10, 11, 12, 4, 5, 6, 7, 8, 9, 10, 11, 12, 13, 5, 6, 7, 8, 9, 10, 11, 12, 13, 14, 6, 7, 8, 9, 10, 11, 12, 13, 14, 15, 7, 8, 9, 10, 11, 12, 13, 14, 15, 16, 8, 9, 10, 11, 12, 13, 14, 15, 16, 17, 9, 10, 11, 12, 13, 14, 15, 16, 17, 18, 10, 11, 12, 13, 14, 15, 16, 17, 18, 19, 11, 12, 13, 14, 15, 16, 17, 18, 19, 20, 3, 4, 5, 6, 7, 8, 9, 10, 11, 12, 4, 5, 6, 7, 8, 9, 10, 11, 12, 13, 5, 6, 7, 8, 9, 10, 11, 12, 13, 14, 6, 7, 8, 9, 10, 11, 12, 13, 14, 15, 7, 8, 9, 10, 11, 12, 13, 14, 15, 16, 8, 9, 10, 11, 12, 13, 14, 15, 16, 17, 9, 10, 11, 12, 13, 14, 15, 16, 17, 18, 10, 11, 12, 13, 14, 15, 16, 17, 18, 19, 11, 12, 13, 14, 15, 16, 17, 18, 19, 20, 12, 13, 14, 15, 16, 17, 18, 19, 20, 21, 4, 5, 6, 7, 8, 9, 10, 11, 12, 13, 5, 6, 7, 8, 9, 10, 11, 12, 13, 14, 6, 7, 8, 9, 10, 11, 12, 13, 14, 15, 7, 8, 9, 10, 11, 12, 13, 14, 15, 16, 8, 9, 10, 11, 12, 13, 14, 15, 16, 17, 9, 10, 11, 12, 13, 14, 15, 16, 17, 18, 10, 11, 12, 13, 14, 15, 16, 17, 18, 19, 11, 12, 13, 14, 15, 16, 17, 18, 19, 20, 12, 13, 14, 15, 16, 17, 18, 19, 20, 21, 13, 14, 15, 16, 17, 18, 19, 20, 21, 22, 5, 6, 7, 8, 9, 10, 11, 12, 13, 14, 6, 7, 8, 9, 10, 11, 12, 13, 14, 15, 7, 8, 9, 10, 11, 12, 13, 14, 15, 16, 8, 9, 10, 11, 12, 13, 14, 15, 16, 17, 9, 10, 11, 12, 13, 14, 15, 16, 17, 18, 10, 11, 12, 13, 14, 15, 16, 17, 18, 19, 11, 12, 13, 14, 15, 16, 17, 18, 19, 20, 12, 13, 14, 15, 16, 17, 18, 19, 20, 21, 13, 14, 15, 16, 17, 18, 19, 20, 21, 22, 14, 15, 16, 17, 18, 19, 20, 21, 22, 23, 6, 7, 8, 9, 10, 11, 12, 13, 14, 15, 7, 8, 9, 10, 11, 12, 13, 14, 15, 16, 8, 9, 10, 11, 12, 13, 14, 15, 16, 17, 9, 10, 11, 12, 13, 14, 15, 16, 17, 18, 10, 11, 12, 13, 14, 15, 16, 17, 18, 19, 11, 12, 13, 14, 15, 16, 17, 18, 19, 20, 12, 13, 14, 15, 16, 17, 18, 19, 20, 21, 13, 14, 15, 16, 17, 18, 19, 20, 21, 22, 14, 15, 16, 17, 18, 19, 20, 21, 22, 23, 15, 16, 17, 18, 19, 20, 21, 22, 23, 24, 7, 8, 9, 10, 11, 12, 13, 14, 15, 16, 8, 9, 10, 11, 12, 13, 14, 15, 16, 17, 9, 10, 11, 12, 13, 14, 15, 16, 17, 18, 10, 11, 12, 13, 14, 15, 16, 17, 18, 19, 11, 12, 13, 14, 15, 16, 17, 18, 19, 20, 12, 13, 14, 15, 16, 17, 18, 19, 20, 21, 13, 14, 15, 16, 17, 18, 19, 20, 21, 22, 14, 15, 16, 17, 18, 19, 20, 21, 22, 23, 15, 16, 17, 18, 19, 20, 21, 22, 23, 24, 16, 17, 18, 19, 20, 21, 22, 23, 24, 25, 8, 9, 10, 11, 12, 13, 14, 15, 16, 17, 9, 10, 11, 12, 13, 14, 15, 16, 17, 18, 10, 11, 12, 13, 14, 15, 16, 17, 18, 19, 11, 12, 13, 14, 15, 16, 17, 18, 19, 20, 12, 13, 14, 15, 16, 17, 18, 19, 20, 21, 13, 14, 15, 16, 17, 18, 19, 20, 21, 22, 14, 15, 16, 17, 18, 19, 20, 21, 22, 23, 15, 16, 17, 18, 19, 20, 21, 22, 23, 24, 16, 17, 18, 19, 20, 21, 22, 23, 24, 25, 17, 18, 19, 20, 21, 22, 23, 24, 25, 26, 9, 10, 11, 12, 13, 14, 15, 16, 17, 18, 10, 11, 12, 13, 14, 15, 16, 17, 18, 19, 11, 12, 13, 14, 15, 16, 17, 18, 19, 20, 12, 13, 14, 15, 16, 17, 18, 19, 20, 21, 13, 14, 15, 16, 17, 18, 19, 20, 21, 22, 14, 15, 16, 17, 18, 19, 20, 21, 22, 23, 15, 16, 17, 18, 19, 20, 21, 22, 23, 24, 16, 17, 18, 19, 20, 21, 22, 23, 24, 25, 17, 18, 19, 20, 21, 22, 23, 24, 25, 26, 18, 19, 20, 21, 22, 23, 24, 25, 26, 27, 1]\n"
          ]
        }
      ]
    },
    {
      "cell_type": "code",
      "source": [
        "# Write a program that generates a list of prime palindromic numbers using list comprehension.\n",
        "def is_palindrome(n):\n",
        "    return str(n) == str(n)[::-1]\n",
        "\n",
        "prime_palindromes = [num for num in sieve_of_eratosthenes(1000) if is_palindrome(num)]\n",
        "print(\"Prime palindromic numbers:\", prime_palindromes)\n",
        "\n"
      ],
      "metadata": {
        "colab": {
          "base_uri": "https://localhost:8080/"
        },
        "id": "-Wje0lauxysY",
        "outputId": "d0c5366f-a61c-4689-e8d2-74bd68acc35e"
      },
      "execution_count": 43,
      "outputs": [
        {
          "output_type": "stream",
          "name": "stdout",
          "text": [
            "Prime palindromic numbers: [2, 3, 5, 7, 11, 101, 131, 151, 181, 191, 313, 353, 373, 383, 727, 757, 787, 797, 919, 929]\n"
          ]
        }
      ]
    },
    {
      "cell_type": "code",
      "source": [],
      "metadata": {
        "id": "wuBnbCr4x15S"
      },
      "execution_count": null,
      "outputs": []
    }
  ]
}